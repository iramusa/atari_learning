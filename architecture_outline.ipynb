{
 "cells": [
  {
   "cell_type": "code",
   "execution_count": 2,
   "metadata": {
    "collapsed": false
   },
   "outputs": [
    {
     "name": "stderr",
     "output_type": "stream",
     "text": [
      "Using TensorFlow backend.\n"
     ]
    }
   ],
   "source": [
    "from keras.layers import Input, Dense, Convolution2D, Deconvolution2D, MaxPooling2D, UpSampling2D, Merge, LSTM\n",
    "from keras.models import Model\n",
    "import keras\n",
    "from keras.utils.visualize_util import plot\n"
   ]
  },
  {
   "cell_type": "code",
   "execution_count": 3,
   "metadata": {
    "collapsed": true
   },
   "outputs": [],
   "source": [
    "# network hyperparameters\n",
    "\n",
    "IMAGE_SIZE_X = 84\n",
    "IMAGE_SIZE_Y = 84\n",
    "IMAGE_CHANNELS = 1\n",
    "\n",
    "V_SIZE = 100\n",
    "A_MAP_SIZE = 100\n",
    "S_SIZE = 200\n",
    "\n",
    "DENSE_SIZE = 200\n"
   ]
  },
  {
   "cell_type": "code",
   "execution_count": 4,
   "metadata": {
    "collapsed": false
   },
   "outputs": [
    {
     "name": "stdout",
     "output_type": "stream",
     "text": [
      "____________________________________________________________________________________________________\n",
      "Layer (type)                     Output Shape          Param #     Connected to                     \n",
      "====================================================================================================\n",
      "input_1 (InputLayer)             (None, 84, 84, 1)     0                                            \n",
      "____________________________________________________________________________________________________\n",
      "convolution2d_1 (Convolution2D)  (None, 84, 84, 4)     260         input_1[0][0]                    \n",
      "____________________________________________________________________________________________________\n",
      "maxpooling2d_1 (MaxPooling2D)    (None, 6, 6, 4)       0           convolution2d_1[0][0]            \n",
      "____________________________________________________________________________________________________\n",
      "flatten_1 (Flatten)              (None, 144)           0           maxpooling2d_1[0][0]             \n",
      "____________________________________________________________________________________________________\n",
      "dense_1 (Dense)                  (None, 100)           14500       flatten_1[0][0]                  \n",
      "____________________________________________________________________________________________________\n",
      "reshape_1 (Reshape)              (None, 100, 1)        0           dense_1[0][0]                    \n",
      "====================================================================================================\n",
      "Total params: 14760\n",
      "____________________________________________________________________________________________________\n"
     ]
    }
   ],
   "source": [
    "def generate_encoder():\n",
    "    X = Input(shape=(IMAGE_SIZE_X, IMAGE_SIZE_Y, IMAGE_CHANNELS))\n",
    "    h = Convolution2D(4, 8, 8, activation='relu', border_mode='same')(X)\n",
    "    h = MaxPooling2D((16, 16), border_mode='same')(h)\n",
    "\n",
    "    h = keras.layers.core.Flatten()(h)\n",
    "    V = Dense(V_SIZE, activation='relu')(h)\n",
    "    V = keras.layers.core.Reshape((V_SIZE, 1))(V)\n",
    "    \n",
    "    encoder = Model(X, V, name='encoder')\n",
    "#     encoder.compile(optimizer='adam', loss='mse')\n",
    "\n",
    "    encoder.summary()\n",
    "    return encoder\n",
    "    \n",
    "encoder = generate_encoder()"
   ]
  },
  {
   "cell_type": "code",
   "execution_count": 5,
   "metadata": {
    "collapsed": false
   },
   "outputs": [
    {
     "name": "stdout",
     "output_type": "stream",
     "text": [
      "____________________________________________________________________________________________________\n",
      "Layer (type)                     Output Shape          Param #     Connected to                     \n",
      "====================================================================================================\n",
      "input_2 (InputLayer)             (None, 6)             0                                            \n",
      "____________________________________________________________________________________________________\n",
      "dense_2 (Dense)                  (None, 100)           700         input_2[0][0]                    \n",
      "====================================================================================================\n",
      "Total params: 700\n",
      "____________________________________________________________________________________________________\n"
     ]
    }
   ],
   "source": [
    "def generate_action_mapper():\n",
    "    a_switch = Input(shape=(6,))\n",
    "#     switch = Input(shape=(1,))\n",
    "#     a_switch = Merge([a, switch], mode='concat')\n",
    "    \n",
    "    action_map = Dense(A_MAP_SIZE, activation='relu')(a_switch)\n",
    "    \n",
    "    action_mapper = Model(a_switch, action_map)\n",
    "#     action_mapper.compile(optimizer='adam', loss='mse')\n",
    "\n",
    "    action_mapper.summary()\n",
    "    return action_mapper\n",
    "  \n",
    "action_mapper = generate_action_mapper()"
   ]
  },
  {
   "cell_type": "code",
   "execution_count": 6,
   "metadata": {
    "collapsed": false
   },
   "outputs": [
    {
     "name": "stdout",
     "output_type": "stream",
     "text": [
      "____________________________________________________________________________________________________\n",
      "Layer (type)                     Output Shape          Param #     Connected to                     \n",
      "====================================================================================================\n",
      "input_3 (InputLayer)             (None, 100, 1)        0                                            \n",
      "____________________________________________________________________________________________________\n",
      "lstm_1 (LSTM)                    (None, 200)           161600      input_3[0][0]                    \n",
      "====================================================================================================\n",
      "Total params: 161600\n",
      "____________________________________________________________________________________________________\n"
     ]
    }
   ],
   "source": [
    "def generate_state_predictor():\n",
    "    V = Input(shape=(V_SIZE,1))\n",
    "    S = LSTM(S_SIZE)(V)\n",
    "    \n",
    "    state_predictor = Model(V, S, name='state_predictor')\n",
    "    \n",
    "    state_predictor.summary()\n",
    "    return state_predictor\n",
    "\n",
    "state_predictor = generate_state_predictor()"
   ]
  },
  {
   "cell_type": "code",
   "execution_count": 7,
   "metadata": {
    "collapsed": false
   },
   "outputs": [
    {
     "name": "stdout",
     "output_type": "stream",
     "text": [
      "____________________________________________________________________________________________________\n",
      "Layer (type)                     Output Shape          Param #     Connected to                     \n",
      "====================================================================================================\n",
      "input_4 (InputLayer)             (None, 200)           0                                            \n",
      "____________________________________________________________________________________________________\n",
      "dense_3 (Dense)                  (None, 200)           40200       input_4[0][0]                    \n",
      "____________________________________________________________________________________________________\n",
      "reshape_2 (Reshape)              (None, 10, 10, 2)     0           dense_3[0][0]                    \n",
      "____________________________________________________________________________________________________\n",
      "convolution2d_2 (Convolution2D)  (None, 10, 10, 4)     516         reshape_2[0][0]                  \n",
      "====================================================================================================\n",
      "Total params: 40716\n",
      "____________________________________________________________________________________________________\n"
     ]
    }
   ],
   "source": [
    "def generate_decoder():\n",
    "    S = Input(shape=(S_SIZE,))\n",
    "    h = Dense(DENSE_SIZE, activation='relu')(S)\n",
    "    h = keras.layers.core.Reshape((10, 10, 2))(h)\n",
    "    \n",
    "    X_recon = Convolution2D(4, 8, 8, activation='relu', border_mode='same')(h)\n",
    "\n",
    "    \n",
    "    decoder = Model(S, X_recon, name='decoder')\n",
    "\n",
    "    decoder.summary()\n",
    "    return decoder\n",
    "    \n",
    "decoder = generate_decoder()    "
   ]
  },
  {
   "cell_type": "code",
   "execution_count": 8,
   "metadata": {
    "collapsed": false
   },
   "outputs": [
    {
     "name": "stdout",
     "output_type": "stream",
     "text": [
      "____________________________________________________________________________________________________\n",
      "Layer (type)                     Output Shape          Param #     Connected to                     \n",
      "====================================================================================================\n",
      "input_5 (InputLayer)             (None, 84, 84, 1)     0                                            \n",
      "____________________________________________________________________________________________________\n",
      "encoder (Model)                  (None, 100, 1)        14760       input_5[0][0]                    \n",
      "____________________________________________________________________________________________________\n",
      "state_predictor (Model)          (None, 200)           161600      encoder[1][0]                    \n",
      "____________________________________________________________________________________________________\n",
      "decoder (Model)                  (None, 10, 10, 4)     40716       state_predictor[1][0]            \n",
      "====================================================================================================\n",
      "Total params: 217076\n",
      "____________________________________________________________________________________________________\n"
     ]
    }
   ],
   "source": [
    "def generate_screen_predictor(encoder, decoder, state_predictor):\n",
    "    X = Input(shape=(IMAGE_SIZE_X, IMAGE_SIZE_Y, IMAGE_CHANNELS))\n",
    "    \n",
    "    S = encoder(X)\n",
    "    S_1 = state_predictor(S)\n",
    "    X_1 = decoder(S_1)\n",
    "    \n",
    "    screen_predictor = Model(X, X_1, name='screen_predictor')\n",
    "    \n",
    "    screen_predictor.summary()\n",
    "    return screen_predictor\n",
    "\n",
    "screen_predictor = generate_screen_predictor(encoder, decoder, state_predictor)\n",
    "\n"
   ]
  },
  {
   "cell_type": "code",
   "execution_count": 9,
   "metadata": {
    "collapsed": true
   },
   "outputs": [],
   "source": [
    "plot(screen_predictor, to_file='model.png')"
   ]
  },
  {
   "cell_type": "code",
   "execution_count": null,
   "metadata": {
    "collapsed": true
   },
   "outputs": [],
   "source": []
  }
 ],
 "metadata": {
  "kernelspec": {
   "display_name": "Python 3",
   "language": "python",
   "name": "python3"
  },
  "language_info": {
   "codemirror_mode": {
    "name": "ipython",
    "version": 3
   },
   "file_extension": ".py",
   "mimetype": "text/x-python",
   "name": "python",
   "nbconvert_exporter": "python",
   "pygments_lexer": "ipython3",
   "version": "3.5.1+"
  }
 },
 "nbformat": 4,
 "nbformat_minor": 2
}
