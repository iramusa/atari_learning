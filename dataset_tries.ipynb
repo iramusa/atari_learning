{
 "cells": [
  {
   "cell_type": "code",
   "execution_count": 1,
   "metadata": {
    "collapsed": true
   },
   "outputs": [],
   "source": [
    "import tensorflow as tf\n",
    "import numpy as np"
   ]
  },
  {
   "cell_type": "code",
   "execution_count": 2,
   "metadata": {
    "collapsed": true
   },
   "outputs": [],
   "source": [
    "import tensorflow.examples.tutorials.mnist.input_data as input_data"
   ]
  },
  {
   "cell_type": "code",
   "execution_count": 4,
   "metadata": {
    "collapsed": false
   },
   "outputs": [
    {
     "name": "stdout",
     "output_type": "stream",
     "text": [
      "Extracting MNIST_data/train-images-idx3-ubyte.gz\n",
      "Extracting MNIST_data/train-labels-idx1-ubyte.gz\n",
      "Extracting MNIST_data/t10k-images-idx3-ubyte.gz\n",
      "Extracting MNIST_data/t10k-labels-idx1-ubyte.gz\n"
     ]
    }
   ],
   "source": [
    "mnist = input_data.read_data_sets('MNIST_data', one_hot=True)"
   ]
  },
  {
   "cell_type": "code",
   "execution_count": 23,
   "metadata": {
    "collapsed": false
   },
   "outputs": [
    {
     "data": {
      "text/plain": [
       "<tensorflow.contrib.learn.python.learn.datasets.mnist.DataSet at 0x7f77d0181da0>"
      ]
     },
     "execution_count": 23,
     "metadata": {},
     "output_type": "execute_result"
    }
   ],
   "source": [
    "mnist.test"
   ]
  },
  {
   "cell_type": "code",
   "execution_count": 24,
   "metadata": {
    "collapsed": false
   },
   "outputs": [
    {
     "data": {
      "text/plain": []
     },
     "execution_count": 24,
     "metadata": {},
     "output_type": "execute_result"
    }
   ],
   "source": [
    "tf.train.Example()"
   ]
  },
  {
   "cell_type": "code",
   "execution_count": 19,
   "metadata": {
    "collapsed": true
   },
   "outputs": [],
   "source": [
    "def _int64_feature(value):\n",
    "  return tf.train.Feature(int64_list=tf.train.Int64List(value=[value]))\n",
    "\n",
    "\n",
    "def _bytes_feature(value):\n",
    "  return tf.train.Feature(bytes_list=tf.train.BytesList(value=[value]))\n",
    "\n",
    "# images and labels array as input\n",
    "def convert_to(images, labels, name):\n",
    "  num_examples = labels.shape[0]\n",
    "  if images.shape[0] != num_examples:\n",
    "    raise ValueError(\"Images size %d does not match label size %d.\" %\n",
    "                     (images.shape[0], num_examples))\n",
    "  rows = images.shape[1]\n",
    "  cols = images.shape[2]\n",
    "  depth = images.shape[3]\n",
    "\n",
    "  filename = os.path.join(FLAGS.directory, name + '.tfrecords')\n",
    "  print('Writing', filename)\n",
    "  writer = tf.python_io.TFRecordWriter(filename)\n",
    "  for index in range(num_examples):\n",
    "    image_raw = images[index].tostring()\n",
    "    example = tf.train.Example(features=tf.train.Features(feature={\n",
    "        'height': _int64_feature(rows),\n",
    "        'width': _int64_feature(cols),\n",
    "        'depth': _int64_feature(depth),\n",
    "        'label': _int64_feature(int(labels[index])),\n",
    "        'image_raw': _bytes_feature(image_raw)}))\n",
    "    writer.write(example.SerializeToString())"
   ]
  },
  {
   "cell_type": "code",
   "execution_count": null,
   "metadata": {
    "collapsed": true
   },
   "outputs": [],
   "source": [
    "class "
   ]
  },
  {
   "cell_type": "code",
   "execution_count": 31,
   "metadata": {
    "collapsed": true
   },
   "outputs": [],
   "source": [
    "n_data = 100\n",
    "data_size = 50\n",
    "fake_data = [np.random.random((data_size)) for i in range(n_data)]\n",
    "fake_labels = [10*np.random.random() for i in range(n_data)]"
   ]
  },
  {
   "cell_type": "code",
   "execution_count": 35,
   "metadata": {
    "collapsed": false
   },
   "outputs": [],
   "source": [
    "fake_data;"
   ]
  },
  {
   "cell_type": "code",
   "execution_count": 33,
   "metadata": {
    "collapsed": false
   },
   "outputs": [],
   "source": [
    "index = 0\n",
    "example = tf.train.Example(features=tf.train.Features(feature={\n",
    "        'height': _int64_feature(10),\n",
    "        'width': _int64_feature(50),\n",
    "        'depth': _int64_feature(1),\n",
    "        'label': _int64_feature(int(fake_labels[index])),\n",
    "        'image_raw': _bytes_feature(fake_data[index].tostring())}))"
   ]
  },
  {
   "cell_type": "code",
   "execution_count": 43,
   "metadata": {
    "collapsed": false
   },
   "outputs": [],
   "source": [
    "example;"
   ]
  },
  {
   "cell_type": "code",
   "execution_count": 51,
   "metadata": {
    "collapsed": false
   },
   "outputs": [],
   "source": [
    "writer = tf.python_io.TFRecordWriter('test_file.tfrecords')"
   ]
  },
  {
   "cell_type": "code",
   "execution_count": 52,
   "metadata": {
    "collapsed": false
   },
   "outputs": [
    {
     "data": {
      "text/plain": [
       "b'\\n\\xe8\\x03\\n\\xa4\\x03\\n\\timage_raw\\x12\\x96\\x03\\n\\x93\\x03\\n\\x90\\x03`\\xb1T\\x84\\xf9y\\xb4?|\\x1c\\xe9\\xefC\\xae\\xd6?@\\x9f(^\\x051\\x8d?D\\xcd\\xb7+\\xb1E\\xd2?\\xba\\xf70\\xddx\\xb0\\xec?U\\xbd\\xefV<U\\xe3?\\x80\\xda\\xe3d\\x86`\\xa3?\\x93z\\xbc\\xc3\\xe4\\x9e\\xe5?l\\xc1\\xa5\\x88\\'\\xcd\\xeb?ZV\\xaf\\xcdA\\xb5\\xdb?\\xc2S-\\x01BF\\xd4?\\xa4\\xb3u\\xf4\\x82\\x07\\xe1?Tgx\\xd2\\xdd!\\xd3?DzF\\xcc\\xb7~\\xd5?\\x84\\x95]\"\\x18\\x8c\\xcf?V\\xbc\\xcd1\\x9fF\\xec?L1M\\xca\\xe9\\x9c\\xda?\\xb0\\'\\xe3_MX\\xdd?\\x02s\\xc6Y\\x87\\xef\\xed?\\xa6\\x0f\\xbe9\\xb4\\xb5\\xeb?H\\x8e\\xf0\\xf3\\xe8&\\xd8?@\\xd4\\xb2X9~\\xb6?\\x1b\\xc0{\\xf1\"\\xfe\\xe0?\"\\x91\\xd4\\x8b]v\\xd1?G\\xc7t\\xa9\\x8f}\\xe7?.\\x86\\xf2o\\xb5;\\xd8?([\\xbd\\xe8@\\xdd\\xd1?p%s\\xe0\\xa5\\xe5\\xd1?\\xa6=Z\\xa5C>\\xdf?\\xfb\\x9a\\xbf\\x06Gw\\xe2?\\xd0\\xfe\\x03\\x98-\\x9f\\xaf?P\\xe9o\\xe8\\xb0>\\xe6?_tK\\x9e\\x9b\\xaa\\xe7?\\x88\\x18\\x17\\xea\\xea\\x00\\xbb?W8\\x17Ay&\\xe7?X\\xf4P\\x83\\x08z\\xb2?\\xe6/7\\x8c\\x1fE\\xeb?\\x05\\xf4~\\x82\\xfaA\\xec? \\t\\xeb\\x02.F\\xe5?\\xfc\\x8frV>I\\xc6?|T\\x17H{;\\xd8?\\xc8i\\xeb\\x00\\x19\\x9f\\xd2?\\xa0\\x0b}\\xa5\\xf3\\x17\\xdd?A\\x96&0P\\x97\\xec?$\\x14\\xd9bw\\\\\\xeb?\\x18y\\x16XV\\xfb\\xeb?<\\x7f$9\\x8ev\\xc5?\\x08\\x06\\xf0H\\xea\\xd8\\xe4?\\xc0\\xeb\\x02^\\x13\\xa6\\xb8?\\x12\\xcaH\\xafCx\\xe2?\\n\\x0e\\n\\x05depth\\x12\\x05\\x1a\\x03\\n\\x01\\x01\\n\\x0f\\n\\x06height\\x12\\x05\\x1a\\x03\\n\\x01\\n\\n\\x0e\\n\\x05label\\x12\\x05\\x1a\\x03\\n\\x01\\x03\\n\\x0e\\n\\x05width\\x12\\x05\\x1a\\x03\\n\\x012'"
      ]
     },
     "execution_count": 52,
     "metadata": {},
     "output_type": "execute_result"
    }
   ],
   "source": [
    "example.SerializeToString()"
   ]
  },
  {
   "cell_type": "code",
   "execution_count": 53,
   "metadata": {
    "collapsed": true
   },
   "outputs": [],
   "source": [
    "writer.write(example.SerializeToString())"
   ]
  },
  {
   "cell_type": "code",
   "execution_count": 54,
   "metadata": {
    "collapsed": true
   },
   "outputs": [],
   "source": [
    "writer.close()"
   ]
  },
  {
   "cell_type": "code",
   "execution_count": 148,
   "metadata": {
    "collapsed": true
   },
   "outputs": [],
   "source": [
    "reader = tf.TFRecordReader()"
   ]
  },
  {
   "cell_type": "code",
   "execution_count": 147,
   "metadata": {
    "collapsed": false
   },
   "outputs": [],
   "source": [
    "f_que = tf.train.string_input_producer(['/home/ira/code/projects/atari_learning/images_bw/DevilAttack0.tfrecords'])\n"
   ]
  },
  {
   "cell_type": "code",
   "execution_count": 152,
   "metadata": {
    "collapsed": false
   },
   "outputs": [
    {
     "ename": "AttributeError",
     "evalue": "'str' object has no attribute 'queue_ref'",
     "output_type": "error",
     "traceback": [
      "\u001b[0;31m---------------------------------------------------------------------------\u001b[0m",
      "\u001b[0;31mAttributeError\u001b[0m                            Traceback (most recent call last)",
      "\u001b[0;32m<ipython-input-152-5da36bde770b>\u001b[0m in \u001b[0;36m<module>\u001b[0;34m()\u001b[0m\n\u001b[0;32m----> 1\u001b[0;31m \u001b[0ma\u001b[0m\u001b[0;34m,\u001b[0m \u001b[0mb\u001b[0m \u001b[0;34m=\u001b[0m \u001b[0mreader\u001b[0m\u001b[0;34m.\u001b[0m\u001b[0mread\u001b[0m\u001b[0;34m(\u001b[0m\u001b[0;34m'images_bw/DevilAttack0.tfrecords'\u001b[0m\u001b[0;34m)\u001b[0m\u001b[0;34m\u001b[0m\u001b[0m\n\u001b[0m",
      "\u001b[0;32m/home/ira/code/envs/flexi/lib/python3.5/site-packages/tensorflow/python/ops/io_ops.py\u001b[0m in \u001b[0;36mread\u001b[0;34m(self, queue, name)\u001b[0m\n\u001b[1;32m    262\u001b[0m       \u001b[0mqueue_ref\u001b[0m \u001b[0;34m=\u001b[0m \u001b[0mqueue\u001b[0m\u001b[0;34m\u001b[0m\u001b[0m\n\u001b[1;32m    263\u001b[0m     \u001b[0;32melse\u001b[0m\u001b[0;34m:\u001b[0m\u001b[0;34m\u001b[0m\u001b[0m\n\u001b[0;32m--> 264\u001b[0;31m       \u001b[0mqueue_ref\u001b[0m \u001b[0;34m=\u001b[0m \u001b[0mqueue\u001b[0m\u001b[0;34m.\u001b[0m\u001b[0mqueue_ref\u001b[0m\u001b[0;34m\u001b[0m\u001b[0m\n\u001b[0m\u001b[1;32m    265\u001b[0m     \u001b[0;32mreturn\u001b[0m \u001b[0mgen_io_ops\u001b[0m\u001b[0;34m.\u001b[0m\u001b[0m_reader_read\u001b[0m\u001b[0;34m(\u001b[0m\u001b[0mself\u001b[0m\u001b[0;34m.\u001b[0m\u001b[0m_reader_ref\u001b[0m\u001b[0;34m,\u001b[0m \u001b[0mqueue_ref\u001b[0m\u001b[0;34m,\u001b[0m \u001b[0mname\u001b[0m\u001b[0;34m=\u001b[0m\u001b[0mname\u001b[0m\u001b[0;34m)\u001b[0m\u001b[0;34m\u001b[0m\u001b[0m\n\u001b[1;32m    266\u001b[0m \u001b[0;34m\u001b[0m\u001b[0m\n",
      "\u001b[0;31mAttributeError\u001b[0m: 'str' object has no attribute 'queue_ref'"
     ]
    }
   ],
   "source": [
    "a, b = reader.read('images_bw/DevilAttack0.tfrecords')"
   ]
  },
  {
   "cell_type": "code",
   "execution_count": 151,
   "metadata": {
    "collapsed": false
   },
   "outputs": [
    {
     "data": {
      "text/plain": [
       "<tf.Tensor 'ReaderRead_5:1' shape=() dtype=string>"
      ]
     },
     "execution_count": 151,
     "metadata": {},
     "output_type": "execute_result"
    }
   ],
   "source": [
    "b"
   ]
  },
  {
   "cell_type": "code",
   "execution_count": 67,
   "metadata": {
    "collapsed": false
   },
   "outputs": [
    {
     "ename": "TypeError",
     "evalue": "parse_single_example() got an unexpected keyword argument 'dense_keys'",
     "output_type": "error",
     "traceback": [
      "\u001b[0;31m---------------------------------------------------------------------------\u001b[0m",
      "\u001b[0;31mTypeError\u001b[0m                                 Traceback (most recent call last)",
      "\u001b[0;32m<ipython-input-67-d908defb0e08>\u001b[0m in \u001b[0;36m<module>\u001b[0;34m()\u001b[0m\n\u001b[1;32m      1\u001b[0m features = tf.parse_single_example(\n\u001b[1;32m      2\u001b[0m     \u001b[0mb\u001b[0m\u001b[0;34m,\u001b[0m\u001b[0;34m\u001b[0m\u001b[0m\n\u001b[0;32m----> 3\u001b[0;31m     dense_keys=['image_raw', 'label'])\n\u001b[0m\u001b[1;32m      4\u001b[0m     \u001b[0;31m# Defaults are not specified since both keys are required.\u001b[0m\u001b[0;34m\u001b[0m\u001b[0;34m\u001b[0m\u001b[0m\n\u001b[1;32m      5\u001b[0m     \u001b[0;31m#dense_types=[tf.string, tf.int64])\u001b[0m\u001b[0;34m\u001b[0m\u001b[0;34m\u001b[0m\u001b[0m\n",
      "\u001b[0;31mTypeError\u001b[0m: parse_single_example() got an unexpected keyword argument 'dense_keys'"
     ]
    }
   ],
   "source": [
    "features = tf.parse_single_example(\n",
    "    serialized_example,\n",
    "    dense_keys=['image_raw', 'label'],\n",
    "    # Defaults are not specified since both keys are required.\n",
    "    dense_types=[tf.string, tf.int64])"
   ]
  }
 ],
 "metadata": {
  "kernelspec": {
   "display_name": "Python 3",
   "language": "python",
   "name": "python3"
  },
  "language_info": {
   "codemirror_mode": {
    "name": "ipython",
    "version": 3
   },
   "file_extension": ".py",
   "mimetype": "text/x-python",
   "name": "python",
   "nbconvert_exporter": "python",
   "pygments_lexer": "ipython3",
   "version": "3.5.1+"
  }
 },
 "nbformat": 4,
 "nbformat_minor": 2
}
